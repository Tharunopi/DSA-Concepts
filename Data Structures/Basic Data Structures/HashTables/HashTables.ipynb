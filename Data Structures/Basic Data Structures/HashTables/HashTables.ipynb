{
 "cells": [
  {
   "cell_type": "markdown",
   "id": "25a6508a",
   "metadata": {},
   "source": [
    "Data types that are hashable(immutable) \n",
    "    - Strings,\n",
    "    Integers,\n",
    "    Tuples,\n",
    "    "
   ]
  },
  {
   "cell_type": "markdown",
   "id": "2d52e214",
   "metadata": {},
   "source": [
    "Data types that are not hashable (mutable) - \n",
    "    Dictionaries\n",
    "    Arrays "
   ]
  },
  {
   "cell_type": "code",
   "execution_count": 5,
   "id": "72ef1477",
   "metadata": {},
   "outputs": [],
   "source": [
    "# Hashsets\n",
    "s = set()"
   ]
  },
  {
   "cell_type": "code",
   "execution_count": 6,
   "id": "24daffb3",
   "metadata": {},
   "outputs": [],
   "source": [
    "#Add some elements\n",
    "s.add(1)\n",
    "s.add(2)\n",
    "s.add(3)"
   ]
  },
  {
   "cell_type": "code",
   "execution_count": 7,
   "id": "0b21897a",
   "metadata": {},
   "outputs": [
    {
     "name": "stdout",
     "output_type": "stream",
     "text": [
      "True\n"
     ]
    }
   ],
   "source": [
    "#Look if item in the set\n",
    "if 2 in s:\n",
    "    print(True)"
   ]
  },
  {
   "cell_type": "code",
   "execution_count": 8,
   "id": "04e0832c",
   "metadata": {},
   "outputs": [],
   "source": [
    "#Delete an item from the set\n",
    "s.remove(3)"
   ]
  },
  {
   "cell_type": "code",
   "execution_count": 10,
   "id": "488912af",
   "metadata": {},
   "outputs": [
    {
     "name": "stdout",
     "output_type": "stream",
     "text": [
      "{'c', 'b', 'a'}\n"
     ]
    }
   ],
   "source": [
    "# set construction\n",
    "st = \"aaaaaaaaaaaabbbbccccccccc\"\n",
    "stored = set(st)\n",
    "print(stored)"
   ]
  },
  {
   "cell_type": "code",
   "execution_count": 11,
   "id": "a03cb2e9",
   "metadata": {},
   "outputs": [
    {
     "name": "stdout",
     "output_type": "stream",
     "text": [
      "c\n",
      "b\n",
      "a\n"
     ]
    }
   ],
   "source": [
    "# looping throught the set\n",
    "for i in stored:\n",
    "    print(i)"
   ]
  },
  {
   "cell_type": "code",
   "execution_count": 17,
   "id": "2887f630",
   "metadata": {},
   "outputs": [
    {
     "name": "stdout",
     "output_type": "stream",
     "text": [
      "{'Tharun': 1, 'Greg': 2}\n"
     ]
    }
   ],
   "source": [
    "# HashMaps - Dictionaries\n",
    "d = {'Tharun':1, 'Greg':2}\n",
    "print(d)"
   ]
  },
  {
   "cell_type": "code",
   "execution_count": 18,
   "id": "a1d45524",
   "metadata": {},
   "outputs": [
    {
     "name": "stdout",
     "output_type": "stream",
     "text": [
      "{'Tharun': 1, 'Greg': 2, 'Atithya': 3}\n"
     ]
    }
   ],
   "source": [
    "# Adding a new key-value pair\n",
    "d[\"Atithya\"] = 3\n",
    "print(d)"
   ]
  },
  {
   "cell_type": "code",
   "execution_count": null,
   "id": "6509e723",
   "metadata": {},
   "outputs": [
    {
     "name": "stdout",
     "output_type": "stream",
     "text": [
      "True\n"
     ]
    }
   ],
   "source": [
    "# checking the presence of specific key\n",
    "if \"Tharun\" in d:\n",
    "    print(True)"
   ]
  },
  {
   "cell_type": "code",
   "execution_count": 24,
   "id": "27922a8b",
   "metadata": {},
   "outputs": [
    {
     "name": "stdout",
     "output_type": "stream",
     "text": [
      "1\n"
     ]
    }
   ],
   "source": [
    "# checking the presence of specific value\n",
    "print(d[\"Tharun\"])"
   ]
  },
  {
   "cell_type": "code",
   "execution_count": 25,
   "id": "4ee6c953",
   "metadata": {},
   "outputs": [
    {
     "name": "stdout",
     "output_type": "stream",
     "text": [
      "Tharun 1\n",
      "Greg 2\n",
      "Atithya 3\n"
     ]
    }
   ],
   "source": [
    "# looping through the dictionary\n",
    "for i, j in d.items():\n",
    "    print(i, j)"
   ]
  },
  {
   "cell_type": "code",
   "execution_count": 29,
   "id": "36ba15f0",
   "metadata": {},
   "outputs": [
    {
     "name": "stdout",
     "output_type": "stream",
     "text": [
      "defaultdict(<class 'dict'>, {2: {}})\n"
     ]
    }
   ],
   "source": [
    "#default dict \n",
    "from collections import defaultdict\n",
    "\n",
    "default = defaultdict(dict)\n",
    "default[2]\n",
    "print(default)"
   ]
  },
  {
   "cell_type": "code",
   "execution_count": 31,
   "id": "5867c362",
   "metadata": {},
   "outputs": [
    {
     "name": "stdout",
     "output_type": "stream",
     "text": [
      "aaaaaaaaaaaabbbbccccccccc\n",
      "Counter({'a': 12, 'c': 9, 'b': 4})\n"
     ]
    }
   ],
   "source": [
    "# counter \n",
    "from collections import Counter\n",
    "\n",
    "print(st)\n",
    "print(Counter(st))"
   ]
  },
  {
   "cell_type": "code",
   "execution_count": null,
   "id": "a3187941",
   "metadata": {},
   "outputs": [],
   "source": []
  }
 ],
 "metadata": {
  "kernelspec": {
   "display_name": "Python 3",
   "language": "python",
   "name": "python3"
  },
  "language_info": {
   "codemirror_mode": {
    "name": "ipython",
    "version": 3
   },
   "file_extension": ".py",
   "mimetype": "text/x-python",
   "name": "python",
   "nbconvert_exporter": "python",
   "pygments_lexer": "ipython3",
   "version": "3.11.4"
  }
 },
 "nbformat": 4,
 "nbformat_minor": 5
}
