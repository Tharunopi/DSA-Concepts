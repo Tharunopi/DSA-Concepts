{
 "cells": [
  {
   "cell_type": "code",
   "execution_count": 87,
   "id": "e5c83d1d",
   "metadata": {},
   "outputs": [],
   "source": [
    "# singly linked list\n",
    "class Node:\n",
    "    def __init__(self, head, next=None):\n",
    "        self.head = head\n",
    "        self.next = next \n",
    "\n",
    "    def __str__(self):\n",
    "        return str(self.head)\n",
    "\n",
    "def show(x):\n",
    "    cur = x\n",
    "\n",
    "    while cur:\n",
    "        print(cur, end=\" -> \")\n",
    "        cur = cur.next\n",
    "    print(\"None\")\n",
    "\n",
    "def insert(old_node, new_value):\n",
    "    new_node = Node(new_value, old_node)\n",
    "    return new_node\n",
    "\n",
    "def check(node, value):\n",
    "    cur = node\n",
    "    while cur:\n",
    "        if cur.head == value:\n",
    "            return True\n",
    "        cur = cur.next\n",
    "    return False\n",
    "\n",
    "def delete(node, value):\n",
    "    cur = node \n",
    "    if cur is None:\n",
    "        return None\n",
    "    \n",
    "    if cur.head == value:\n",
    "        cur = cur.next\n",
    "        return cur\n",
    "    \n",
    "    while cur:\n",
    "        if cur.next.head == value:\n",
    "            cur.next = cur.next.next\n",
    "            return node\n",
    "        cur = cur.next\n",
    "    return node"
   ]
  },
  {
   "cell_type": "code",
   "execution_count": 102,
   "id": "3ddc9448",
   "metadata": {},
   "outputs": [
    {
     "name": "stdout",
     "output_type": "stream",
     "text": [
      "Data already Exists\n",
      "True\n",
      "Tharun -> 4 -> 5 -> None\n",
      "Done\n",
      "Tharun -> 4 -> None\n"
     ]
    }
   ],
   "source": [
    "# going to create hashset on my own\n",
    "\n",
    "support_dt_declaration = [list, tuple] \n",
    "support_dt = (int, float, str, complex)\n",
    "\n",
    "class HashSet:\n",
    "    def __init__(self, values: list = None, size=10):\n",
    "        self.values = values\n",
    "        self.size = size\n",
    "\n",
    "        if not self.values:\n",
    "            self.values = [None] * self.size\n",
    "\n",
    "    def look_up(self, value, hashed_index:int=None):\n",
    "        if hashed_index is None:\n",
    "            hashed_index = hash(value) % self.size\n",
    "\n",
    "        if_present = check(self.values[hashed_index], value)\n",
    "\n",
    "        return if_present\n",
    "\n",
    "    def insert(self, value):\n",
    "        \n",
    "        hashed_index = hash(value) % self.size\n",
    "\n",
    "        if self.values[hashed_index] is None:\n",
    "            new_node = Node(value)\n",
    "            self.values[hashed_index] = new_node\n",
    "            return \"Inserted\"\n",
    "\n",
    "        if self.look_up(value):\n",
    "            return print(\"Data already Exists\")\n",
    "        \n",
    "        new_node_1 = Node(value, next=self.values[hashed_index])\n",
    "        self.values[hashed_index] = new_node_1\n",
    "\n",
    "    def delete(self, value):\n",
    "        hashed_index = hash(value) % self.size\n",
    "        updated_head = delete(self.values[hashed_index], value)\n",
    "        self.values[hashed_index] = updated_head\n",
    "        return print(\"Done\")\n",
    "\n",
    "    def disply(self):\n",
    "        for i in self.values:\n",
    "            if i:\n",
    "                print(i, end=\" -> \")\n",
    "        print(\"None\")\n",
    "        return \n",
    "\n",
    "    def __repr__(self):\n",
    "        return str(self.values)\n",
    "    \n",
    "def insert_multivalues(values, hashtable):        \n",
    "    for i in values:\n",
    "        hashtable.insert(i)\n",
    "    \n",
    "    return hashtable\n",
    "\n",
    "\n",
    "s = HashSet()\n",
    "s.insert(4)\n",
    "s.insert(5)\n",
    "s.insert(\"Tharun\")\n",
    "s.insert(\"Tharun\")\n",
    "print(s.look_up(value=5))\n",
    "s.disply()\n",
    "s.delete(5)\n",
    "s.disply()"
   ]
  },
  {
   "cell_type": "code",
   "execution_count": null,
   "id": "99ca6904",
   "metadata": {},
   "outputs": [
    {
     "name": "stdout",
     "output_type": "stream",
     "text": [
      "Data already Exists\n"
     ]
    }
   ],
   "source": [
    "values = [1, 2, 3, 4, 5]\n",
    "n = insert_multivalues(values, s)"
   ]
  },
  {
   "cell_type": "code",
   "execution_count": 103,
   "id": "ab65a29a",
   "metadata": {},
   "outputs": [
    {
     "name": "stdout",
     "output_type": "stream",
     "text": [
      "Done\n",
      "Tharun -> None\n"
     ]
    }
   ],
   "source": [
    "s.delete(4)\n",
    "s.disply()"
   ]
  },
  {
   "cell_type": "code",
   "execution_count": null,
   "id": "f2e27f67",
   "metadata": {},
   "outputs": [],
   "source": []
  }
 ],
 "metadata": {
  "kernelspec": {
   "display_name": "Python 3",
   "language": "python",
   "name": "python3"
  },
  "language_info": {
   "codemirror_mode": {
    "name": "ipython",
    "version": 3
   },
   "file_extension": ".py",
   "mimetype": "text/x-python",
   "name": "python",
   "nbconvert_exporter": "python",
   "pygments_lexer": "ipython3",
   "version": "3.11.4"
  }
 },
 "nbformat": 4,
 "nbformat_minor": 5
}
